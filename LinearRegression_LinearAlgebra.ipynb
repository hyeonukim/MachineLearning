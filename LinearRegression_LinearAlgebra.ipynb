{
  "nbformat": 4,
  "nbformat_minor": 0,
  "metadata": {
    "colab": {
      "name": "CMPT726-419_A1_Q2.ipynb",
      "provenance": [],
      "collapsed_sections": []
    },
    "kernelspec": {
      "display_name": "Python 3",
      "language": "python",
      "name": "python3"
    },
    "language_info": {
      "codemirror_mode": {
        "name": "ipython",
        "version": 3
      },
      "file_extension": ".py",
      "mimetype": "text/x-python",
      "name": "python",
      "nbconvert_exporter": "python",
      "pygments_lexer": "ipython3",
      "version": "3.7.3"
    },
    "nteract": {
      "version": "0.28.0"
    }
  },
  "cells": [
    {
      "cell_type": "markdown",
      "metadata": {
        "id": "yIzZYEqUwQKw"
      },
      "source": [
        "We recommend running this notebook on Google Colab to avoid having to install dependencies."
      ]
    },
    {
      "cell_type": "markdown",
      "metadata": {
        "id": "pyJgJ5DNERo5"
      },
      "source": [
        "## Load packages"
      ]
    },
    {
      "cell_type": "code",
      "metadata": {
        "ExecuteTime": {
          "end_time": "2021-03-11T21:12:35.634207Z",
          "start_time": "2021-03-11T21:12:34.239216Z"
        },
        "id": "mQ0w94zPtMvw"
      },
      "source": [
        "import matplotlib.pyplot as plt\n",
        "import numpy as np\n",
        "import math\n",
        "import sklearn\n",
        "import random\n",
        "\n",
        "from numpy import linalg\n",
        "from sklearn import datasets\n",
        "from sklearn import metrics\n",
        "\n",
        "\n",
        "EPS = 1e-9\n",
        "np.random.seed(0)\n",
        "random.seed(0)"
      ],
      "execution_count": null,
      "outputs": []
    },
    {
      "cell_type": "markdown",
      "metadata": {
        "id": "SM0qdo6PEW1d"
      },
      "source": [
        "## Creating the dataset\n",
        "\n",
        "We create a dataset with 100 points and plot it as a scatter plot. Run this block to see the scatter plot of data points.\n"
      ]
    },
    {
      "cell_type": "code",
      "metadata": {
        "ExecuteTime": {
          "end_time": "2021-03-11T21:12:35.656496Z",
          "start_time": "2021-03-11T21:12:35.637352Z"
        },
        "id": "23IwboWcDwBA",
        "colab": {
          "base_uri": "https://localhost:8080/",
          "height": 265
        },
        "outputId": "0236c98f-9afe-4028-cf32-40c29b859296"
      },
      "source": [
        "ds = sklearn.datasets.make_moons(n_samples=100)[0]\n",
        "\n",
        "def plot_scatter(xs, ys, labels=None, colors=None):\n",
        "    \"\"\"\n",
        "    Scatter plot of a list of data points\n",
        "    :param xs: list of points for the first dimension\n",
        "    :param ys: list of points for the second dimension\n",
        "    :param labels: list of labels associated with each xs[i] and ys[i], e.g., labels[i]\n",
        "    :return: None\n",
        "    \"\"\"\n",
        "    assert(len(xs) == len(ys))\n",
        "    fig, ax = plt.subplots()\n",
        "\n",
        "    for i in range(len(xs)):\n",
        "        label = None\n",
        "        color = None\n",
        "        if labels is not None and len(labels) >= i:\n",
        "            label = labels[i]\n",
        "        if colors is not None and len(colors) >= i:\n",
        "            color = colors[i]\n",
        "        ax.scatter(xs[i], ys[i], label=label, color=color)\n",
        "\n",
        "    if labels is not None:\n",
        "        ax.legend()\n",
        "    ax.grid(True)\n",
        "    fig.show()\n",
        "\n",
        "plot_scatter([ds[:, 0]], [ds[:, 1]], labels=['data pints'], colors=['purple'])"
      ],
      "execution_count": null,
      "outputs": [
        {
          "output_type": "display_data",
          "data": {
            "image/png": "[encoded data removed]",
            "text/plain": [
              "<Figure size 432x288 with 1 Axes>"
            ]
          },
          "metadata": {
            "needs_background": "light"
          }
        }
      ]
    },
    {
      "cell_type": "markdown",
      "metadata": {
        "id": "kfMcq9AHEabL"
      },
      "source": [
        "## Part a: Computing Gram matrices\n",
        "\n",
        "Implement the following methods for computing **A** and **B**."
      ]
    },
    {
      "cell_type": "code",
      "metadata": {
        "ExecuteTime": {
          "end_time": "2021-03-11T21:12:46.685307Z",
          "start_time": "2021-03-11T21:12:35.661256Z"
        },
        "id": "SqcNfjOTDz2j"
      },
      "source": [
        "def dot_gram(ds):\n",
        "    \"\"\"\n",
        "    IMPLEMENT ME\n",
        "    Computes the Gram matrix w.r.t the inner product\n",
        "    :param ds: dataset\n",
        "    :return: The Gram matrix\n",
        "    \"\"\"\n",
        "    # Hint: You may use the polynomial_kernel function in the sklearn module (be careful about the parameters) or use numpy \n",
        "    G = np.array(ds)\n",
        "    return np.dot(G, np.transpose(G))\n",
        "\n",
        "def quadratic_gram(ds):\n",
        "    \"\"\"\n",
        "    IMPLEMENT ME\n",
        "    Computes the Gram matrix w.r.t the quadratic kernel\n",
        "    :param ds: dataset\n",
        "    :return: The Gram matrix\n",
        "    \"\"\"\n",
        "    G = np.array(ds)\n",
        "    G = np.dot(G, np.transpose(G))\n",
        "    G = 1+G\n",
        "    return pow(G,2)\n",
        "\n",
        "A = dot_gram(ds)\n",
        "B = quadratic_gram(ds)\n",
        "\n",
        "assert A.shape == (100, 100), 'The shape of A must be 100x100'\n",
        "assert A.dtype == np.float64, 'The type of A must be float64'\n",
        "assert B.shape == (100, 100), 'The shape of B must be 100x100'\n",
        "assert B.dtype == np.float64, 'The type of B must be float64'"
      ],
      "execution_count": null,
      "outputs": []
    },
    {
      "cell_type": "markdown",
      "metadata": {
        "id": "X1M7mOuREg1z"
      },
      "source": [
        "## Part b: Computing rank, eigendecomposition and positive semi-definiteness\n",
        "\n",
        "Implement the following section to compute the rank, eigendecomposition and positive semi-definiteness of **A** and **B**."
      ]
    },
    {
      "cell_type": "code",
      "metadata": {
        "ExecuteTime": {
          "start_time": "2021-03-11T21:12:57.723Z"
        },
        "id": "0itXRhM8D2MB",
        "colab": {
          "base_uri": "https://localhost:8080/"
        },
        "outputId": "de230a4a-33e2-4c93-d951-63256a107f1e"
      },
      "source": [
        "def compute_rank(m):\n",
        "    \"\"\"\n",
        "    IMPLEMENT ME\n",
        "    Computes the rank of a matrix\n",
        "    :param m: The matrix to compute the rank of\n",
        "    :return: An integer, i.e, the rank of m\n",
        "    \"\"\"\n",
        "    return linalg.matrix_rank(m) \n",
        "  \n",
        "def compute_eigendecomposition(m):\n",
        "    \"\"\"\n",
        "    IMPLEMENT ME\n",
        "    Computes the eigendecomposition of a matrix\n",
        "    :param m: The matrix to compute the eigendocomposition of\n",
        "    :return: (eigenvalues, eigenvectors)\n",
        "    \"\"\"\n",
        "    return linalg.eig(m)\n",
        "\n",
        "def is_positive_semi_definite(m):\n",
        "    \"\"\"\n",
        "    IMPLEMENT ME\n",
        "    Whether m is positive semi-definite or not\n",
        "    :param m: The matrix to see if it is positive semi-definite or not\n",
        "    :return: A boolean, True if m is positive semi-definite, False otherwise\n",
        "    \"\"\"\n",
        "    # For this part, consider any number x that satisfies -EPS < x < EPS as zero\n",
        "    # print (np.linalg.eigvals(m))\n",
        "    m[np.abs(m) < EPS] = 0\n",
        "    return not np.all(np.linalg.eigvals(m) >= 0)\n",
        "\n",
        "A_rank = compute_rank(A)\n",
        "print('The rank of A is', A_rank)\n",
        "\n",
        "B_rank = compute_rank(B)\n",
        "print('The rank of B is', B_rank)\n",
        "\n",
        "A_eig_vals, A_eig_vecs = compute_eigendecomposition(A)\n",
        "assert np.allclose(np.matmul(np.matmul(A_eig_vecs, np.diag(A_eig_vals)), linalg.inv(A_eig_vecs)),\n",
        "                    A), 'eigendecomposition of A is not correct'\n",
        "\n",
        "B_eig_vals, B_eig_vecs = compute_eigendecomposition(B)\n",
        "assert np.allclose(np.matmul(np.matmul(B_eig_vecs, np.diag(B_eig_vals)), linalg.inv(B_eig_vecs)),\n",
        "                    B), 'eigendecomposition of B is not correct'\n",
        "\n",
        "print('A is positive semi-definite:', is_positive_semi_definite(A))\n",
        "print('B is positive semi-definite:', is_positive_semi_definite(B))"
      ],
      "execution_count": null,
      "outputs": [
        {
          "output_type": "stream",
          "name": "stdout",
          "text": [
            "The rank of A is 2\n",
            "The rank of B is 6\n",
            "A is positive semi-definite: True\n",
            "B is positive semi-definite: True\n"
          ]
        }
      ]
    },
    {
      "cell_type": "markdown",
      "metadata": {
        "id": "0ALGe4cE_z1B"
      },
      "source": [
        "## Part c: Computing Cholesky decomposition of a symmetric positive semi-definite matrix\n",
        "\n",
        "Implement the following method to compute the particular Cholesky decomposition of a symmetric positive semi-definite matrix defined in the question, i.e.: $M^\\circ$. Note: the built-in function for Cholesky decomposition in Numpy and Scipy cannot be used, and would not give correct results because the resulting matrix is constrained to be lower triangular. "
      ]
    },
    {
      "cell_type": "code",
      "source": [
        "def compute_chol(m):\n",
        "    \"\"\"\n",
        "    IMPLEMENT ME\n",
        "    Computes m^(\\circ) for a symmetric positive semi-definite matrix m\n",
        "    :param m: A symmetric positive semi-definite matrix\n",
        "    :return: m^(\\circ)\n",
        "    \"\"\"\n",
        "    # Hint: for any diagonal matrix D with non-negative entries, D^(1/2) is a matrix where its elements are square root of the elements of D\n",
        "    eig_val, eig_vec = compute_eigendecomposition(m)\n",
        "    return ( np.dot(eig_vec, np.diag(pow(eig_val,1/2))))\n",
        "A_chol = compute_chol(A)\n",
        "assert np.allclose(np.matmul(A_chol, A_chol.T), A), 'Cholesky decomposition of A is not correct!'\n",
        "assert A_chol.shape == A.shape, 'Shape of A_chol is wrong!'\n",
        "\n",
        "B_chol = compute_chol(B)\n",
        "assert np.allclose(np.matmul(B_chol, B_chol.T), B), 'Cholesky decomposition of B is not correct!'\n",
        "assert B_chol.shape == B.shape, 'Shape of B_chol is wrong!'\n"
      ],
      "metadata": {
        "id": "5OQAlOzBASQT"
      },
      "execution_count": null,
      "outputs": []
    },
    {
      "cell_type": "markdown",
      "metadata": {
        "id": "9SHmFNOhHF2-"
      },
      "source": [
        "## Part d: Generating scatter plots of $A^\\circ$ and $B^\\circ$\n",
        "\n",
        "Implement the following method to plot the first two columns of $A^\\circ$ and $B^\\circ$ as requested in the question."
      ]
    },
    {
      "cell_type": "code",
      "source": [
        "def d_plot(A_chol, B_chol):\n",
        "    \"\"\"\n",
        "    IMPLEMENT ME\n",
        "    Generates the two scatter plots as requested in the question\n",
        "    :param A_chol: Cholesky decomposition of A, as defined in the question\n",
        "    :param B_chol: Cholesky decomposition of B, as defined in the question\n",
        "    :return: None\n",
        "    \"\"\"\n",
        "    # Hint: You can use the already implemented plot_scatter function\n",
        "    plot_scatter([ds[:, 0]], [ds[:, 1]], labels=['original points'], colors=['purple'])\n",
        "    plot_scatter([A_chol[:, 0]],[A_chol[:, 1]], labels=['A points'], colors=['blue'])\n",
        "    plot_scatter([B_chol[:, 0]], [B_chol[:, 1]], labels=['B points'], colors=['red'])\n",
        "d_plot(A_chol.real, B_chol.real)"
      ],
      "metadata": {
        "id": "lOk1PcsUHF3I",
        "colab": {
          "base_uri": "https://localhost:8080/",
          "height": 761
        },
        "outputId": "f80e23dc-45ad-4629-d9cf-661455dd0add"
      },
      "execution_count": null,
      "outputs": [
        {
          "output_type": "display_data",
          "data": {
            "image/png": "[encoded data removed]",
            "text/plain": [
              "<Figure size 432x288 with 1 Axes>"
            ]
          },
          "metadata": {
            "needs_background": "light"
          }
        },
        {
          "output_type": "display_data",
          "data": {
            "image/png": "[encoded data removed]",
            "text/plain": [
              "<Figure size 432x288 with 1 Axes>"
            ]
          },
          "metadata": {
            "needs_background": "light"
          }
        },
        {
          "output_type": "display_data",
          "data": {
            "image/png": "[encoded data removed]",
            "text/plain": [
              "<Figure size 432x288 with 1 Axes>"
            ]
          },
          "metadata": {
            "needs_background": "light"
          }
        }
      ]
    },
    {
      "cell_type": "markdown",
      "metadata": {
        "id": "ttbRS8OVSgV9"
      },
      "source": [
        "## Part e: Multiple output linear regression for $H$\n",
        "\n",
        "Implement the following methods for solving multiple output linear regression and determining if a matrix is orthogonal."
      ]
    },
    {
      "cell_type": "code",
      "source": [
        "def solve_multiple_output_linear_regression(X, Y):\n",
        "    \"\"\"\n",
        "    IMPLEMENT ME\n",
        "    Solves multiple output linear regression\n",
        "    :param X: X in L(W) = ||Y - XW^T||\n",
        "    :param Y: Y in L(W) = ||Y - XW^T||\n",
        "    :return: W in L(W) = ||Y - XW^T||\n",
        "    \"\"\"\n",
        "    W = linalg.inv(np.dot(np.transpose(X),X)).dot(np.transpose(X)).dot(Y)\n",
        "    print (W)\n",
        "    return W\n",
        "\n",
        "def calc_loss(X, Y, W):\n",
        "    \"\"\"\n",
        "    IMPLEMENT ME\n",
        "    Calculates the loss L(W) = ||Y - XW^T||\n",
        "    :param X: X in L(W) = ||Y - XW^T||\n",
        "    :param Y: Y in L(W) = ||Y - XW^T||\n",
        "    :param W in L(W) = ||Y - XW^T||\n",
        "    :return: The loss\n",
        "    \"\"\"\n",
        "    m = Y - np.dot(X, np.transpose(W))\n",
        "    return linalg.norm(m,'fro')\n",
        "\n",
        "def is_orthogonal(m):\n",
        "    \"\"\"\n",
        "    IMPLEMENT ME\n",
        "    Returns whether a matrix m is orthogonal\n",
        "    :param m: The matrix to see if it is ortogonal\n",
        "    :return: True if m is orthogonal, False otherwise\n",
        "    \"\"\"\n",
        "    # For this part, consider any number x that satisfies -EPS < x < EPS as zero\n",
        "    I = np.identity(len(m))\n",
        "    return np.allclose(np.dot(m,np.transpose(m)), I)\n",
        "\n",
        "W = solve_multiple_output_linear_regression(A_chol[0:2,:].T, ds)\n",
        "assert W.shape == (2, 2), 'W does not have correct shape!'\n",
        "\n",
        "loss = calc_loss(A_chol[0:2, :].T, ds, W)\n",
        "assert loss < 1e-9, 'The optimal objective value should be below 1e-9'\n",
        "print('W is', W.real)\n",
        "print('The optimal objective value is:', loss)\n",
        "print('W is orthogonal:', is_orthogonal(W))\n"
      ],
      "metadata": {
        "id": "sCfM649XSgWG",
        "colab": {
          "base_uri": "https://localhost:8080/",
          "height": 284
        },
        "outputId": "11ace25e-f196-4594-ad5b-279716a780d1"
      },
      "execution_count": null,
      "outputs": [
        {
          "output_type": "stream",
          "name": "stdout",
          "text": [
            "[[ 1.71292564+8.98719366e-09j -0.1894714 +1.93168570e-09j]\n",
            " [ 0.12765015+7.65655181e-09j  0.56967677+1.86151277e-09j]]\n"
          ]
        },
        {
          "output_type": "error",
          "ename": "AssertionError",
          "evalue": "ignored",
          "traceback": [
            "\u001b[0;31m---------------------------------------------------------------------------\u001b[0m",
            "\u001b[0;31mAssertionError\u001b[0m                            Traceback (most recent call last)",
            "\u001b[0;32m<ipython-input-44-52826b4332b3>\u001b[0m in \u001b[0;36m<module>\u001b[0;34m()\u001b[0m\n\u001b[1;32m     38\u001b[0m \u001b[0;34m\u001b[0m\u001b[0m\n\u001b[1;32m     39\u001b[0m \u001b[0mloss\u001b[0m \u001b[0;34m=\u001b[0m \u001b[0mcalc_loss\u001b[0m\u001b[0;34m(\u001b[0m\u001b[0mA_chol\u001b[0m\u001b[0;34m[\u001b[0m\u001b[0;36m0\u001b[0m\u001b[0;34m:\u001b[0m\u001b[0;36m2\u001b[0m\u001b[0;34m,\u001b[0m \u001b[0;34m:\u001b[0m\u001b[0;34m]\u001b[0m\u001b[0;34m.\u001b[0m\u001b[0mT\u001b[0m\u001b[0;34m,\u001b[0m \u001b[0mds\u001b[0m\u001b[0;34m,\u001b[0m \u001b[0mW\u001b[0m\u001b[0;34m)\u001b[0m\u001b[0;34m\u001b[0m\u001b[0;34m\u001b[0m\u001b[0m\n\u001b[0;32m---> 40\u001b[0;31m \u001b[0;32massert\u001b[0m \u001b[0mloss\u001b[0m \u001b[0;34m<\u001b[0m \u001b[0;36m1e-9\u001b[0m\u001b[0;34m,\u001b[0m \u001b[0;34m'The optimal objective value should be below 1e-9'\u001b[0m\u001b[0;34m\u001b[0m\u001b[0;34m\u001b[0m\u001b[0m\n\u001b[0m\u001b[1;32m     41\u001b[0m \u001b[0mprint\u001b[0m\u001b[0;34m(\u001b[0m\u001b[0;34m'W is'\u001b[0m\u001b[0;34m,\u001b[0m \u001b[0mW\u001b[0m\u001b[0;34m.\u001b[0m\u001b[0mreal\u001b[0m\u001b[0;34m)\u001b[0m\u001b[0;34m\u001b[0m\u001b[0;34m\u001b[0m\u001b[0m\n\u001b[1;32m     42\u001b[0m \u001b[0mprint\u001b[0m\u001b[0;34m(\u001b[0m\u001b[0;34m'The optimal objective value is:'\u001b[0m\u001b[0;34m,\u001b[0m \u001b[0mloss\u001b[0m\u001b[0;34m)\u001b[0m\u001b[0;34m\u001b[0m\u001b[0;34m\u001b[0m\u001b[0m\n",
            "\u001b[0;31mAssertionError\u001b[0m: The optimal objective value should be below 1e-9"
          ]
        }
      ]
    },
    {
      "cell_type": "markdown",
      "metadata": {
        "id": "Zn95fHfyfS-x"
      },
      "source": [
        "## Part f: Multiple output linear regression for $G$\n",
        "\n",
        "For this part we will be using the already implemented methods for solving multiple output linear regression."
      ]
    },
    {
      "cell_type": "code",
      "source": [
        "def x_to_x_tilde(x):\n",
        "    \"\"\"\n",
        "    IMPLEMENT ME\n",
        "    Computes \\tilde{x} which is defined in the question statement\n",
        "    :param x: input x\n",
        "    :return: \\tilde{x}\n",
        "    \"\"\"\n",
        "    # Hint: You can use the plot_scatter function already implemented in common.py\n",
        "    one = np.ones(100)\n",
        "    return np.c_[ one, math.sqrt(2)*x[:,0], math.sqrt(2)*x[:,1], np.matmul(x[:,0],x[:,0]), np.matmul(math.sqrt(2)*x[:,0](x[:,0])), np.matmul(x[:,1],x[:,1]) ]\n",
        "\n",
        "\n",
        "\n",
        "ds_tilde = x_to_x_tilde(ds)\n",
        "assert ds_tilde.shape == (100, 6), 'ds_tilde dimensions are not correct!'\n",
        "\n",
        "W = solve_multiple_output_linear_regression(B_chol[:, :6], ds_tilde)\n",
        "assert W.shape == (6, 6), 'W does not have correct shape!'\n",
        "\n",
        "loss = calc_loss(B_chol[:, :6], ds_tilde, W)\n",
        "assert loss < 1e-9, 'The optimal objective value should be below 1e-9'\n",
        "print('W is', W.real)\n",
        "print('The optimal objective value is:', loss)\n",
        "print('W is orthogonal:', is_orthogonal(W))\n"
      ],
      "metadata": {
        "id": "wNOz7PlQfS-y",
        "colab": {
          "base_uri": "https://localhost:8080/",
          "height": 376
        },
        "outputId": "d1836d1f-bbf7-4662-fee3-bc0d869e2e62"
      },
      "execution_count": null,
      "outputs": [
        {
          "output_type": "error",
          "ename": "TypeError",
          "evalue": "ignored",
          "traceback": [
            "\u001b[0;31m---------------------------------------------------------------------------\u001b[0m",
            "\u001b[0;31mTypeError\u001b[0m                                 Traceback (most recent call last)",
            "\u001b[0;32m<ipython-input-45-299df36b9776>\u001b[0m in \u001b[0;36m<module>\u001b[0;34m()\u001b[0m\n\u001b[1;32m     12\u001b[0m \u001b[0;34m\u001b[0m\u001b[0m\n\u001b[1;32m     13\u001b[0m \u001b[0;34m\u001b[0m\u001b[0m\n\u001b[0;32m---> 14\u001b[0;31m \u001b[0mds_tilde\u001b[0m \u001b[0;34m=\u001b[0m \u001b[0mx_to_x_tilde\u001b[0m\u001b[0;34m(\u001b[0m\u001b[0mds\u001b[0m\u001b[0;34m)\u001b[0m\u001b[0;34m\u001b[0m\u001b[0;34m\u001b[0m\u001b[0m\n\u001b[0m\u001b[1;32m     15\u001b[0m \u001b[0;32massert\u001b[0m \u001b[0mds_tilde\u001b[0m\u001b[0;34m.\u001b[0m\u001b[0mshape\u001b[0m \u001b[0;34m==\u001b[0m \u001b[0;34m(\u001b[0m\u001b[0;36m100\u001b[0m\u001b[0;34m,\u001b[0m \u001b[0;36m6\u001b[0m\u001b[0;34m)\u001b[0m\u001b[0;34m,\u001b[0m \u001b[0;34m'ds_tilde dimensions are not correct!'\u001b[0m\u001b[0;34m\u001b[0m\u001b[0;34m\u001b[0m\u001b[0m\n\u001b[1;32m     16\u001b[0m \u001b[0;34m\u001b[0m\u001b[0m\n",
            "\u001b[0;32m<ipython-input-45-299df36b9776>\u001b[0m in \u001b[0;36mx_to_x_tilde\u001b[0;34m(x)\u001b[0m\n\u001b[1;32m      8\u001b[0m     \u001b[0;31m# Hint: You can use the plot_scatter function already implemented in common.py\u001b[0m\u001b[0;34m\u001b[0m\u001b[0;34m\u001b[0m\u001b[0;34m\u001b[0m\u001b[0m\n\u001b[1;32m      9\u001b[0m     \u001b[0mone\u001b[0m \u001b[0;34m=\u001b[0m \u001b[0mnp\u001b[0m\u001b[0;34m.\u001b[0m\u001b[0mones\u001b[0m\u001b[0;34m(\u001b[0m\u001b[0;36m100\u001b[0m\u001b[0;34m)\u001b[0m\u001b[0;34m\u001b[0m\u001b[0;34m\u001b[0m\u001b[0m\n\u001b[0;32m---> 10\u001b[0;31m     \u001b[0;32mreturn\u001b[0m \u001b[0mnp\u001b[0m\u001b[0;34m.\u001b[0m\u001b[0mc_\u001b[0m\u001b[0;34m[\u001b[0m \u001b[0mone\u001b[0m\u001b[0;34m,\u001b[0m \u001b[0mmath\u001b[0m\u001b[0;34m.\u001b[0m\u001b[0msqrt\u001b[0m\u001b[0;34m(\u001b[0m\u001b[0;36m2\u001b[0m\u001b[0;34m)\u001b[0m\u001b[0;34m*\u001b[0m\u001b[0mx\u001b[0m\u001b[0;34m[\u001b[0m\u001b[0;34m:\u001b[0m\u001b[0;34m,\u001b[0m\u001b[0;36m0\u001b[0m\u001b[0;34m]\u001b[0m\u001b[0;34m,\u001b[0m \u001b[0mmath\u001b[0m\u001b[0;34m.\u001b[0m\u001b[0msqrt\u001b[0m\u001b[0;34m(\u001b[0m\u001b[0;36m2\u001b[0m\u001b[0;34m)\u001b[0m\u001b[0;34m*\u001b[0m\u001b[0mx\u001b[0m\u001b[0;34m[\u001b[0m\u001b[0;34m:\u001b[0m\u001b[0;34m,\u001b[0m\u001b[0;36m1\u001b[0m\u001b[0;34m]\u001b[0m\u001b[0;34m,\u001b[0m \u001b[0mnp\u001b[0m\u001b[0;34m.\u001b[0m\u001b[0mmatmul\u001b[0m\u001b[0;34m(\u001b[0m\u001b[0mx\u001b[0m\u001b[0;34m[\u001b[0m\u001b[0;34m:\u001b[0m\u001b[0;34m,\u001b[0m\u001b[0;36m0\u001b[0m\u001b[0;34m]\u001b[0m\u001b[0;34m,\u001b[0m\u001b[0mx\u001b[0m\u001b[0;34m[\u001b[0m\u001b[0;34m:\u001b[0m\u001b[0;34m,\u001b[0m\u001b[0;36m0\u001b[0m\u001b[0;34m]\u001b[0m\u001b[0;34m)\u001b[0m\u001b[0;34m,\u001b[0m \u001b[0mnp\u001b[0m\u001b[0;34m.\u001b[0m\u001b[0mmatmul\u001b[0m\u001b[0;34m(\u001b[0m\u001b[0mmath\u001b[0m\u001b[0;34m.\u001b[0m\u001b[0msqrt\u001b[0m\u001b[0;34m(\u001b[0m\u001b[0;36m2\u001b[0m\u001b[0;34m)\u001b[0m\u001b[0;34m*\u001b[0m\u001b[0mx\u001b[0m\u001b[0;34m[\u001b[0m\u001b[0;34m:\u001b[0m\u001b[0;34m,\u001b[0m\u001b[0;36m0\u001b[0m\u001b[0;34m]\u001b[0m\u001b[0;34m(\u001b[0m\u001b[0mx\u001b[0m\u001b[0;34m[\u001b[0m\u001b[0;34m:\u001b[0m\u001b[0;34m,\u001b[0m\u001b[0;36m0\u001b[0m\u001b[0;34m]\u001b[0m\u001b[0;34m)\u001b[0m\u001b[0;34m)\u001b[0m\u001b[0;34m,\u001b[0m \u001b[0mnp\u001b[0m\u001b[0;34m.\u001b[0m\u001b[0mmatmul\u001b[0m\u001b[0;34m(\u001b[0m\u001b[0mx\u001b[0m\u001b[0;34m[\u001b[0m\u001b[0;34m:\u001b[0m\u001b[0;34m,\u001b[0m\u001b[0;36m1\u001b[0m\u001b[0;34m]\u001b[0m\u001b[0;34m,\u001b[0m\u001b[0mx\u001b[0m\u001b[0;34m[\u001b[0m\u001b[0;34m:\u001b[0m\u001b[0;34m,\u001b[0m\u001b[0;36m1\u001b[0m\u001b[0;34m]\u001b[0m\u001b[0;34m)\u001b[0m \u001b[0;34m]\u001b[0m\u001b[0;34m\u001b[0m\u001b[0;34m\u001b[0m\u001b[0m\n\u001b[0m\u001b[1;32m     11\u001b[0m \u001b[0;34m\u001b[0m\u001b[0m\n\u001b[1;32m     12\u001b[0m \u001b[0;34m\u001b[0m\u001b[0m\n",
            "\u001b[0;31mTypeError\u001b[0m: 'numpy.ndarray' object is not callable"
          ]
        }
      ]
    },
    {
      "cell_type": "markdown",
      "metadata": {
        "id": "PsC2JFIrjd8Q"
      },
      "source": [
        "## Part g: Plots as a function of $k$\n",
        "\n",
        "Implement the following methods to produce the requested plots."
      ]
    },
    {
      "cell_type": "code",
      "source": [
        "def plot_values(vals, label=None, color=None):\n",
        "    \"\"\"\n",
        "    READ ME TO UNDERSTAND ME :)\n",
        "    Plots values\n",
        "    :param vals: a list of real numbers, i.e., values to plot\n",
        "    :param label: label of the plot\n",
        "    :param color: color of the plot\n",
        "    :return: None\n",
        "    \"\"\"\n",
        "    fig, ax = plt.subplots()\n",
        "\n",
        "    ax.plot([x + 1 for x in range(len(vals))], vals, label=label, color=color)\n",
        "    ax.legend()\n",
        "    fig.show()\n",
        "\n",
        "def first_plot(B, B_chol):\n",
        "    \"\"\"\n",
        "    IMPLEMENT ME\n",
        "    Plot the first part of `g`\n",
        "    :param B: matrix B defined in the assignment\n",
        "    :param B_chol: Cholesky decomposition of B\n",
        "    :return: None\n",
        "    \"\"\"\n",
        "    # Hint: You can use the plot_values function already implemented in common.py\n",
        "    vals = []  # fill this with values for different k \\in {1...8}\n",
        "\n",
        "    plot_values(vals, 'first plot for g', color='blue')\n",
        "\n",
        "\n",
        "def second_plot(x_tilde, B):\n",
        "    \"\"\"\n",
        "    IMPLEMENT ME\n",
        "    Plot the second part of `g`\n",
        "    :param x_tilda: \\tilde{x} defined in the question in part f\n",
        "    :param B: matrix B defined in the assignment\n",
        "    :return: None\n",
        "    \"\"\"\n",
        "    # Hint: You can use linalg.svd to compute SVD\n",
        "    # Hint: You can use the plot_values function already implemented in common.py\n",
        "\n",
        "    # Hint: If you need to convert singular values (\\Sigma) to a matrix of a proper\n",
        "    # size, you can use np.vstack to add the missing rows to the diagonal matrix, \\Sigma\n",
        "\n",
        "    vals = []  # fill this with values for different k \\in {1...8}\n",
        "    u = None  # assign U (U\\Sigma V^T) to this variable\n",
        "    s = None  # assign \\Sigma (U\\Sigma V^T) to this variable\n",
        "    vh = None  # assign V^T (U\\Sigma V^T) to this variable\n",
        "    # assign the above variables appropriately\n",
        "    assert np.allclose(np.matmul(np.matmul(u, s), vh), x_tilde), \\\n",
        "        'Wrong SVD, make sure dimensions of \\Sigma are appropriate.' \\\n",
        "        'This error goes away once SVD is correct.'\n",
        "\n",
        "    plot_values(vals, 'second plot for g', color='red')\n",
        "\n",
        "first_plot(B, B_chol)\n",
        "second_plot(ds_tilde, B)"
      ],
      "metadata": {
        "id": "Lsba838gjd8b"
      },
      "execution_count": null,
      "outputs": []
    }
  ]
}