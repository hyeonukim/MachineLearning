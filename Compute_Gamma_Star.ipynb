{
  "nbformat": 4,
  "nbformat_minor": 0,
  "metadata": {
    "colab": {
      "name": "CMPT726_419_A2_Q2.ipynb",
      "provenance": [],
      "collapsed_sections": []
    },
    "kernelspec": {
      "name": "python3",
      "display_name": "Python 3"
    },
    "language_info": {
      "name": "python"
    }
  },
  "cells": [
    {
      "cell_type": "markdown",
      "source": [
        "## Before you start"
      ],
      "metadata": {
        "id": "O8PCVAVc2rBR"
      }
    },
    {
      "cell_type": "markdown",
      "source": [
        "We recommend running this notebook on Google Colab to avoid having to install dependencies."
      ],
      "metadata": {
        "id": "kvlEzVrrydlR"
      }
    },
    {
      "cell_type": "markdown",
      "source": [
        "Note:\n",
        "\n",
        "*   You can use any functions provided in the numpy, but not the functions in scipy.\n",
        "*   You should use *numpy.linalg.solve()* to invert a matrix for more numerical stable results rather than *numpy.linalg.inv()*. Refer to [link](http://gregorygundersen.com/blog/2020/12/09/matrix-inversion/) for more details.\n",
        "* Try to avoid for-loops. Refer to [link](https://www.learndatasci.com/tutorials/applied-introduction-to-numpy-python-tutorial/) for more details.\n"
      ],
      "metadata": {
        "id": "48ppzfPv2zb0"
      }
    },
    {
      "cell_type": "markdown",
      "source": [
        "## Load packages"
      ],
      "metadata": {
        "id": "3lLmN7dmyhLo"
      }
    },
    {
      "cell_type": "code",
      "source": [
        "import numpy as np\n",
        "from scipy import stats"
      ],
      "metadata": {
        "id": "Ab7E-pGtym0t"
      },
      "execution_count": null,
      "outputs": []
    },
    {
      "cell_type": "markdown",
      "source": [
        "## Part c: Computing optimal $\\vec{\\gamma}$\n"
      ],
      "metadata": {
        "id": "JlAXyBkAyt-v"
      }
    },
    {
      "cell_type": "markdown",
      "source": [
        "Implement the function below, which defines the input data matrix $\\mathbf{A}$ (variable A) and the vector of desired outputs $\\vec{y}$ (variable y). Calculate the optimal $\\vec{\\gamma}$ (variable gamma_star). All the variables should be the type of np.float64."
      ],
      "metadata": {
        "id": "kpUDqUyqzX6o"
      }
    },
    {
      "cell_type": "code",
      "source": [
        "def part_2c(l, odd_indexed_sum):\n",
        "  \"\"\"\n",
        "  l: Number of possible outcomes.\n",
        "  odd_indexed_sum: Sum of the probability masses of Q at odd-indexed outcomes\n",
        "  return: Input data matrix A, desired outputs y, and optimal parameters gamma_star\n",
        "  \"\"\"\n",
        "  # TODO: Assign the variables below appropriately\n",
        "\n",
        "  A = np.zeros((2,l))\n",
        "  for i in range (l):\n",
        "    A[0][i] = 1\n",
        "    #note that in assignment, it's gamma 1,2,3,4...10 so 1,0,1,0... for A[i]\n",
        "    if (i % 2 == 0):\n",
        "      A[1][i] = 1\n",
        "\n",
        "  y = np.array([[1],\n",
        "                [odd_indexed_sum]])\n",
        "  \n",
        "  identity = np.identity(l)\n",
        "  gamma_star = np.linalg.solve((A.T@A+identity), A.T@y)\n",
        "\n",
        "  return A, y, gamma_star\n",
        "\n",
        "l = 10\n",
        "odd_indexed_sum = 0.8\n",
        "\n",
        "A, y, gamma_star = part_2c(l, odd_indexed_sum)\n",
        "\n",
        "# Do not modify the lines below\n",
        "assert(isinstance(A, np.ndarray))\n",
        "assert(A.dtype == np.float64)\n",
        "assert(isinstance(y, np.ndarray))\n",
        "assert(y.dtype == np.float64)\n",
        "assert(isinstance(gamma_star, np.ndarray))\n",
        "assert(gamma_star.dtype == np.float64)\n",
        "\n",
        "print(\"A:\\n{}\\ny:\\n{}\\n\".format(A, y))\n",
        "print(\"gamma_star:\\n{}\".format(gamma_star))\n",
        "print(\"Prediction:\\n{}\".format(A.dot(gamma_star)))\n",
        "print(\"Loss:\\n{}\".format(np.linalg.norm(y - A.dot(gamma_star))))"
      ],
      "metadata": {
        "id": "iOsP2BEezIFY",
        "colab": {
          "base_uri": "https://localhost:8080/"
        },
        "outputId": "5cbe8e4b-18b2-4477-ed5a-5ce2c5d2ee9a"
      },
      "execution_count": null,
      "outputs": [
        {
          "output_type": "stream",
          "name": "stdout",
          "text": [
            "A:\n",
            "[[1. 1. 1. 1. 1. 1. 1. 1. 1. 1.]\n",
            " [1. 0. 1. 0. 1. 0. 1. 0. 1. 0.]]\n",
            "y:\n",
            "[[1. ]\n",
            " [0.8]]\n",
            "\n",
            "gamma_star:\n",
            "[[0.14146341]\n",
            " [0.04878049]\n",
            " [0.14146341]\n",
            " [0.04878049]\n",
            " [0.14146341]\n",
            " [0.04878049]\n",
            " [0.14146341]\n",
            " [0.04878049]\n",
            " [0.14146341]\n",
            " [0.04878049]]\n",
            "Prediction:\n",
            "[[0.95121951]\n",
            " [0.70731707]]\n",
            "Loss:\n",
            "0.10473614904187271\n"
          ]
        }
      ]
    },
    {
      "cell_type": "markdown",
      "source": [
        "## Part e: Computing optimal $\\mathrm{vec}(\\mathbb{\\Gamma})$\n",
        "\n",
        "\n",
        "\n"
      ],
      "metadata": {
        "id": "NvVICSTF0TCY"
      }
    },
    {
      "cell_type": "markdown",
      "source": [
        "Implement the function below, which defines the data matrix $\\mathbf{A}$ (variable A) and label vector $\\vec{y}$ (variable y). Calculate the optimal $\\mathrm{vec}(\\mathbb{\\Gamma})$ (variable Gamma_star) using the formula derived in part *d*.\n",
        "\n",
        "Note: The $\\vec{p}$, $\\vec{q}$, $\\{u_i\\}_{i=1}^{l}$ and $\\{v_j\\}_{i=1}^{l}$ are given as the variables p, q, U and V."
      ],
      "metadata": {
        "id": "cDwpe-Mp0gND"
      }
    },
    {
      "cell_type": "code",
      "source": [
        "def part_2e(l, p, q, U, V):\n",
        "  \"\"\"\n",
        "  l: Number of possible outcomes.\n",
        "  p: Probability mass function of P.\n",
        "  q: Probability mass function of Q.\n",
        "  U: All possible outcomes of P. \n",
        "  V: All possible outcomes of Q. \n",
        "  return: Input data matrix A, desired outputs y, and optimal parameters Gamma_star\n",
        "  \"\"\"\n",
        "  # TODO: Assign the variables below appropriately\n",
        "\n",
        "  A = np.zeros((2*l, l**2))\n",
        "  for i in range(l):\n",
        "    for j in range(l):\n",
        "      A[i][(i*l)+j] = 1.\n",
        "  for i in range(l):\n",
        "    for j in range(l):\n",
        "      A[i+l][(j*l)+i] = 1.\n",
        "\n",
        "  y = np.concatenate((p,q))\n",
        "\n",
        "  Gamma_star = np.linalg.solve(((A.T@A)+ np.identity(l**2)), (A.T@y))\n",
        "\n",
        "  return A, y, Gamma_star\n",
        "\n",
        "# Do not modify the lines below\n",
        "\n",
        "U = np.linspace(0, 9, num=10)\n",
        "V = np.linspace(5, 14, num=10)\n",
        "\n",
        "# Poisson distributions\n",
        "p = stats.poisson.pmf(U, mu=4)\n",
        "q = stats.poisson.pmf(V, mu=10)\n",
        "\n",
        "# Normalize distributions\n",
        "p = (p / np.sum(p)).astype(np.float64)\n",
        "q = (q / np.sum(q)).astype(np.float64)\n",
        "\n",
        "l = U.shape[0]  # l = 10\n",
        "\n",
        "A, y, Gamma_star = part_2e(l, p, q, U, V)\n",
        "\n",
        "assert(isinstance(A, np.ndarray))\n",
        "assert(A.dtype == np.float64)\n",
        "assert(isinstance(y, np.ndarray))\n",
        "assert(y.dtype == np.float64)\n",
        "assert(isinstance(Gamma_star, np.ndarray))\n",
        "assert(Gamma_star.dtype == np.float64)\n",
        "\n",
        "print(\"A:\\n{}\\ny:\\n{}\\n\".format(A, y))\n",
        "print(\"Gamma_star:\\n{}\".format(Gamma_star))\n",
        "print(\"Prediction:\\n{}\".format(A.dot(Gamma_star)))\n",
        "print(\"Loss:\\n{}\".format(np.linalg.norm(y - A.dot(Gamma_star))))"
      ],
      "metadata": {
        "id": "T02kDwO-0fk9",
        "colab": {
          "base_uri": "https://localhost:8080/"
        },
        "outputId": "d685348b-aa9c-49ef-f505-56783a382236"
      },
      "execution_count": null,
      "outputs": [
        {
          "output_type": "stream",
          "name": "stdout",
          "text": [
            "A:\n",
            "[[1. 1. 1. ... 0. 0. 0.]\n",
            " [0. 0. 0. ... 0. 0. 0.]\n",
            " [0. 0. 0. ... 0. 0. 0.]\n",
            " ...\n",
            " [0. 0. 0. ... 1. 0. 0.]\n",
            " [0. 0. 0. ... 0. 1. 0.]\n",
            " [0. 0. 0. ... 0. 0. 1.]]\n",
            "y:\n",
            "[0.01846581 0.07386323 0.14772646 0.19696861 0.19696861 0.15757489\n",
            " 0.10504993 0.06002853 0.03001426 0.01333967 0.04263919 0.07106531\n",
            " 0.10152187 0.12690234 0.1410026  0.1410026  0.12818418 0.10682015\n",
            " 0.08216935 0.05869239]\n",
            "\n",
            "Gamma_star:\n",
            "[-3.10300917e-03 -5.18816011e-04  2.24996237e-03  4.55727769e-03\n",
            "  5.83911953e-03  5.83911953e-03  4.67380877e-03  2.73162416e-03\n",
            "  4.90641911e-04 -1.64362689e-03  1.93312010e-03  4.51731326e-03\n",
            "  7.28609164e-03  9.59340696e-03  1.08752488e-02  1.08752488e-02\n",
            "  9.70993803e-03  7.76775342e-03  5.52677118e-03  3.39250238e-03\n",
            "  8.64795913e-03  1.12321523e-02  1.40009307e-02  1.63082460e-02\n",
            "  1.75900878e-02  1.75900878e-02  1.64247771e-02  1.44825924e-02\n",
            "  1.22416102e-02  1.01073414e-02  1.31245185e-02  1.57087116e-02\n",
            "  1.84774900e-02  2.07848053e-02  2.20666472e-02  2.20666472e-02\n",
            "  2.09013364e-02  1.89591518e-02  1.67181696e-02  1.45839007e-02\n",
            "  1.31245185e-02  1.57087116e-02  1.84774900e-02  2.07848053e-02\n",
            "  2.20666472e-02  2.20666472e-02  2.09013364e-02  1.89591518e-02\n",
            "  1.67181696e-02  1.45839007e-02  9.54327100e-03  1.21274642e-02\n",
            "  1.48962425e-02  1.72035579e-02  1.84853997e-02  1.84853997e-02\n",
            "  1.73200889e-02  1.53779043e-02  1.31369221e-02  1.10026533e-02\n",
            "  4.76827436e-03  7.35246751e-03  1.01212459e-02  1.24285612e-02\n",
            "  1.37104031e-02  1.37104031e-02  1.25450923e-02  1.06029077e-02\n",
            "  8.36192543e-03  6.22765663e-03  6.75420093e-04  3.25961325e-03\n",
            "  6.02839163e-03  8.33570695e-03  9.61754879e-03  9.61754879e-03\n",
            "  8.45223803e-03  6.51005342e-03  4.26907117e-03  2.13480237e-03\n",
            " -2.05314941e-03  5.31043742e-04  3.29982212e-03  5.60713744e-03\n",
            "  6.88897929e-03  6.88897929e-03  5.72366852e-03  3.78148391e-03\n",
            "  1.54050166e-03 -5.93767140e-04 -3.56902136e-03 -9.84828207e-04\n",
            "  1.78395017e-03  4.09126549e-03  5.37310734e-03  5.37310734e-03\n",
            "  4.20779657e-03  2.26561196e-03  2.46297143e-05 -2.10963909e-03]\n",
            "Prediction:\n",
            "[0.0211161  0.07147739 0.13862578 0.18339138 0.18339138 0.1475789\n",
            " 0.09982894 0.05890039 0.0316147  0.01645598 0.0430919  0.06893383\n",
            " 0.09662162 0.11969477 0.13251319 0.13251319 0.12086008 0.10143823\n",
            " 0.07902841 0.05768572]\n",
            "Loss:\n",
            "0.030385546220225344\n"
          ]
        }
      ]
    },
    {
      "cell_type": "markdown",
      "source": [
        "## Part g: Computing optimal $\\mathrm{vec}(\\mathbb{\\Gamma})$"
      ],
      "metadata": {
        "id": "UPv_AIwx2O9D"
      }
    },
    {
      "cell_type": "markdown",
      "source": [
        "Write code below that defines the data matrix $\\mathbf{A}$ (variable A), label vector $\\vec{y}$ (variable y) and distance vector $\\vec{\\lambda}$ (variable la). Calculate the optimal $\\mathrm{vec}(\\mathbb{\\Gamma})$ (variable Gamma_star) with those variables base on part *f*.\n",
        "\n",
        "Note:\n",
        "\n",
        "*   The $\\vec{p}$, $\\vec{q}$, $\\{u_i\\}_{i=1}^{l}$ and $\\{v_j\\}_{i=1}^{l}$ are given as the variables p, q, U and V.\n",
        "*   The distance between $u_i$ and $v_j$ is defined in the given function *distance_between()*, for example distance between $u_i = 2$ and $v_j = 5$ is $\\vert 2 - 5 \\vert$.\n",
        "\n"
      ],
      "metadata": {
        "id": "YpT2fe6D42-B"
      }
    },
    {
      "cell_type": "code",
      "source": [
        "def part_2g(l, p, q, U, V, D):\n",
        "  \"\"\"\n",
        "  l: Number of possible outcomes.\n",
        "  p: Probability mass function of P.\n",
        "  q: Probability mass function of Q.\n",
        "  U: All possible outcomes of P. \n",
        "  V: All possible outcomes of Q. \n",
        "  D: Matrix of distances between U and V. \n",
        "  return: Input data matrix A, desired outputs y, distance vector la and optimal parameters Gamma_star\n",
        "  \"\"\"\n",
        "  # TODO: Assign to the variables below appropriately\n",
        "\n",
        "  d = D.flatten()\n",
        "\n",
        "  A = np.zeros((2*l, l**2))\n",
        "  for i in range(l):\n",
        "    for j in range(l):\n",
        "      A[i][(i*l)+j] = 1\n",
        "  for i in range(l):\n",
        "    for j in range(l):\n",
        "      A[i+l][(j*l)+i] = 1\n",
        "\n",
        "  y = np.concatenate((p,q))\n",
        "\n",
        "  la = np.column_stack(D.flatten())\n",
        "\n",
        "  Gamma_star = np.linalg.solve(((A.T@A)+ (la.T.dot(la)@np.identity(l**2))), (A.T@y))\n",
        "\n",
        "  return A, y, la, Gamma_star\n",
        "\n",
        "# Do not modify the lines below\n",
        "\n",
        "def distance_between(U, V):\n",
        "    return np.abs(U[:,np.newaxis] - V[np.newaxis,:])\n",
        "\n",
        "U = np.linspace(0, 9, num=10)\n",
        "V = np.linspace(5, 14, num=10)\n",
        "\n",
        "# Poisson distributions\n",
        "p = stats.poisson.pmf(U, mu=4)\n",
        "q = stats.poisson.pmf(V, mu=10)\n",
        "\n",
        "# Normalize distributions\n",
        "p = (p / np.sum(p)).astype(np.float64)\n",
        "q = (q / np.sum(q)).astype(np.float64)\n",
        "\n",
        "l = U.shape[0]  # l = 10\n",
        "\n",
        "D = distance_between(U, V)\n",
        "\n",
        "A, y, la, Gamma_star = part_2g(l, p, q, U, V, D)\n",
        "\n",
        "assert(isinstance(A, np.ndarray))\n",
        "assert(A.dtype == np.float64)\n",
        "assert(isinstance(y, np.ndarray))\n",
        "assert(y.dtype == np.float64)\n",
        "assert(isinstance(la, np.ndarray))\n",
        "assert(la.dtype == np.float64)\n",
        "assert(isinstance(Gamma_star, np.ndarray))\n",
        "assert(Gamma_star.dtype == np.float64)\n",
        "\n",
        "print(\"A:\\n{}\\ny:\\n{}\\nlambda:\\n{}\".format(A, y, la.transpose(1, 0)))\n",
        "print(\"Gamma_star:\\n{}\".format(Gamma_star))\n",
        "print(\"Prediction:\\n{}\".format(A.dot(Gamma_star)))\n",
        "print(\"Loss:\\n{}\".format(np.linalg.norm(y - A.dot(Gamma_star))))"
      ],
      "metadata": {
        "id": "jv2r7rvy5CGf",
        "colab": {
          "base_uri": "https://localhost:8080/"
        },
        "outputId": "9bd8404b-a939-4441-df4d-6ece87ecc8db"
      },
      "execution_count": null,
      "outputs": [
        {
          "output_type": "stream",
          "name": "stdout",
          "text": [
            "A:\n",
            "[[1. 1. 1. ... 0. 0. 0.]\n",
            " [0. 0. 0. ... 0. 0. 0.]\n",
            " [0. 0. 0. ... 0. 0. 0.]\n",
            " ...\n",
            " [0. 0. 0. ... 1. 0. 0.]\n",
            " [0. 0. 0. ... 0. 1. 0.]\n",
            " [0. 0. 0. ... 0. 0. 1.]]\n",
            "y:\n",
            "[0.01846581 0.07386323 0.14772646 0.19696861 0.19696861 0.15757489\n",
            " 0.10504993 0.06002853 0.03001426 0.01333967 0.04263919 0.07106531\n",
            " 0.10152187 0.12690234 0.1410026  0.1410026  0.12818418 0.10682015\n",
            " 0.08216935 0.05869239]\n",
            "lambda:\n",
            "[[ 5.]\n",
            " [ 6.]\n",
            " [ 7.]\n",
            " [ 8.]\n",
            " [ 9.]\n",
            " [10.]\n",
            " [11.]\n",
            " [12.]\n",
            " [13.]\n",
            " [14.]\n",
            " [ 4.]\n",
            " [ 5.]\n",
            " [ 6.]\n",
            " [ 7.]\n",
            " [ 8.]\n",
            " [ 9.]\n",
            " [10.]\n",
            " [11.]\n",
            " [12.]\n",
            " [13.]\n",
            " [ 3.]\n",
            " [ 4.]\n",
            " [ 5.]\n",
            " [ 6.]\n",
            " [ 7.]\n",
            " [ 8.]\n",
            " [ 9.]\n",
            " [10.]\n",
            " [11.]\n",
            " [12.]\n",
            " [ 2.]\n",
            " [ 3.]\n",
            " [ 4.]\n",
            " [ 5.]\n",
            " [ 6.]\n",
            " [ 7.]\n",
            " [ 8.]\n",
            " [ 9.]\n",
            " [10.]\n",
            " [11.]\n",
            " [ 1.]\n",
            " [ 2.]\n",
            " [ 3.]\n",
            " [ 4.]\n",
            " [ 5.]\n",
            " [ 6.]\n",
            " [ 7.]\n",
            " [ 8.]\n",
            " [ 9.]\n",
            " [10.]\n",
            " [ 0.]\n",
            " [ 1.]\n",
            " [ 2.]\n",
            " [ 3.]\n",
            " [ 4.]\n",
            " [ 5.]\n",
            " [ 6.]\n",
            " [ 7.]\n",
            " [ 8.]\n",
            " [ 9.]\n",
            " [ 1.]\n",
            " [ 0.]\n",
            " [ 1.]\n",
            " [ 2.]\n",
            " [ 3.]\n",
            " [ 4.]\n",
            " [ 5.]\n",
            " [ 6.]\n",
            " [ 7.]\n",
            " [ 8.]\n",
            " [ 2.]\n",
            " [ 1.]\n",
            " [ 0.]\n",
            " [ 1.]\n",
            " [ 2.]\n",
            " [ 3.]\n",
            " [ 4.]\n",
            " [ 5.]\n",
            " [ 6.]\n",
            " [ 7.]\n",
            " [ 3.]\n",
            " [ 2.]\n",
            " [ 1.]\n",
            " [ 0.]\n",
            " [ 1.]\n",
            " [ 2.]\n",
            " [ 3.]\n",
            " [ 4.]\n",
            " [ 5.]\n",
            " [ 6.]\n",
            " [ 4.]\n",
            " [ 3.]\n",
            " [ 2.]\n",
            " [ 1.]\n",
            " [ 0.]\n",
            " [ 1.]\n",
            " [ 2.]\n",
            " [ 3.]\n",
            " [ 4.]\n",
            " [ 5.]]\n",
            "Gamma_star:\n",
            "[ 2.24942995 -2.67847018  0.70268455  0.14081289  0.83400935 -0.07526003\n",
            " -0.29190896 -0.45160704 -0.02577482 -0.3854499   0.13708377  0.15749898\n",
            " -0.74412883  0.66758145 -0.33673357 -0.67803151  0.72235577 -0.07572115\n",
            "  0.10496795  0.11899038 -0.63390598 -0.73083923 -0.54335024  0.4360106\n",
            "  0.80625672  0.35989487  0.39619495 -0.14385111  0.26783409 -0.06651821\n",
            "  0.45044525  0.40721998 -0.67613117  0.78390637  0.02907767 -0.30822251\n",
            " -0.46164083  0.04210712 -0.08755536  0.0177621   2.41921207 -2.25987193\n",
            "  0.11743301 -0.01705479 -0.62929422  0.57813352 -0.2174614   0.41351196\n",
            " -0.26097766  0.05333806 -2.79222336  3.64835931  0.95389133 -1.11628083\n",
            " -0.36002053  0.15460145  0.37386936 -0.50013105 -0.156684   -0.04780679\n",
            " -2.80751374  3.58313367 -0.43357886  0.24180572 -0.65777475  0.24581057\n",
            " -0.67228284  0.13643195  0.42848449  0.04053371  0.040001   -2.59264668\n",
            "  2.16805696 -0.01130146  1.29485665  0.24464902 -0.54829042 -0.27142405\n",
            " -0.47647487  0.21260237  0.41005228  0.68814674 -0.96412868 -0.96921563\n",
            "  0.81517607 -0.38692026  0.01415433  0.52473609  0.03674959 -0.13873626\n",
            "  0.57005795 -0.15146533 -0.4792262  -0.02936199 -1.65455079  0.00634748\n",
            "  0.81319423  0.43276745  0.25159994  0.25397694]\n",
            "Prediction:\n",
            "[0.01846581 0.07386323 0.14772646 0.19696861 0.19696861 0.15757489\n",
            " 0.10504993 0.06002853 0.03001426 0.01333967 0.04263919 0.07106531\n",
            " 0.10152187 0.12690234 0.1410026  0.1410026  0.12818418 0.10682015\n",
            " 0.08216935 0.05869239]\n",
            "Loss:\n",
            "1.83044473450483e-14\n"
          ]
        }
      ]
    }
  ]
}